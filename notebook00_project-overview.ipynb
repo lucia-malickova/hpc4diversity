# Inclusive AI & HPC Project - Project Overview

"""
This notebook outlines the goals of the project, expected data structure,
and first planned analyses to be developed once real data is collected.

Project Goals:
- Investigate digital tools used for gender inclusion in companies
- Understand how HPC can support this research
- Explore ethics, diversity, and collaborative innovation in AI systems

Expected Data Fields:
- Company name
- Sector / Industry
- Country / Region
- Tools or platforms used
- Number of women impacted
- AI-related applications (yes/no)
"""

import pandas as pd
import plotly.express as px
